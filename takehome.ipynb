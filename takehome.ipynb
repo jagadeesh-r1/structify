{
 "cells": [
  {
   "cell_type": "code",
   "execution_count": 1,
   "metadata": {},
   "outputs": [],
   "source": [
    "def is_interleaved(a, b, c, d):\n",
    "    # A, B, C, D are the endpoints of the chords AB and CD\n",
    "    # this function returns True if the chords intersect\n",
    "    # and False otherwise\n",
    "    # https://math.stackexchange.com/questions/735169/condition-for-intersection-of-chords-inside-a-circle\n",
    "    # https://www.geeksforgeeks.org/check-if-two-given-line-segments-intersect/\n",
    "\n",
    "    if a == c or a == d or b == c or b == d:  # even though it was mentioned that the chords are distinct, I added this check\n",
    "        return False\n",
    "    if a < c:\n",
    "        return c < b < d          # c < b < d < a  checking if the chords are interleaved\n",
    "    else:\n",
    "        return a < d < b          # a < d < b < c  checking if the chords are interleaved"
   ]
  },
  {
   "cell_type": "code",
   "execution_count": 4,
   "metadata": {},
   "outputs": [],
   "source": [
    "def count_overlapping_lines(points):\n",
    " \"\"\"\n",
    " Counts the number of overlapping lines in a list of points.\n",
    "\n",
    " Args:\n",
    "   points: A list of points, where each point is a string of the format \"s\" or \"e\"\n",
    "     followed by a number, representing the start or end of a line.\n",
    "\n",
    " Returns:\n",
    "   The number of overlapping lines.\n",
    " \"\"\"\n",
    "\n",
    " count = 0\n",
    " active_lines = set()\n",
    " for point in points:\n",
    "   is_start = point[0] == \"s\"\n",
    "   line_number = int(point[1:])\n",
    "   if is_start:\n",
    "     active_lines.add(line_number)\n",
    "   else:\n",
    "     count += max(0, len(active_lines)-1)\n",
    "     active_lines.remove(line_number)\n",
    "\n",
    " return count"
   ]
  },
  {
   "cell_type": "code",
   "execution_count": 2,
   "metadata": {},
   "outputs": [],
   "source": [
    "def main():\n",
    "    intersections = 0\n",
    "    input_list = []\n",
    "    visited = []\n",
    "    points_after_letter = {}\n",
    "\n",
    "    # sample input\n",
    "    # 1. (0.78, 1.47, 1.77, 3.92), (s1, s2, e1, e2)\n",
    "    # 2. (0.9, 1.3, 1.70, 2.92), (s1, e1, s2, e2)\n",
    "    # 3. (0.78, 1.47, 1.77, 3.92), (s1, s2, s3, e1, e2, e3)\n",
    "    # (0.78, 1.47, 1.77, 3.92), (s1, s2, s3, e1, e2, e3)\n",
    "    # (0.78, 1.47, 1.77, 3.92), (s1, s2, s3, e1, e2, e3)\n",
    "    # (0.78, 1.47, 1.77, 3.92), (s1, s2, s3, e1, e2, e3)\n",
    "\n",
    "\n",
    "    input_string = input(\"Enter the input string: \") # just copy paste the input string\n",
    "    \n",
    "    for tup in input_string.split('), ('):\n",
    "        tup = tup.replace(')','').replace('(','').replace(' ','').replace(\"_\",'')\n",
    "        input_list.append(tuple(tup.split(',')))\n",
    "\n",
    "    points = list(map(float, input_list[0]))\n",
    "    identifiers = list(map(str, input_list[1]))\n",
    "\n",
    "    pairs = dict(zip(identifiers, points))\n",
    "\n",
    "    print(count_overlapping_lines(identifiers))"
   ]
  },
  {
   "cell_type": "code",
   "execution_count": 5,
   "metadata": {},
   "outputs": [
    {
     "name": "stdout",
     "output_type": "stream",
     "text": [
      "1\n"
     ]
    }
   ],
   "source": [
    "main()"
   ]
  },
  {
   "cell_type": "code",
   "execution_count": null,
   "metadata": {},
   "outputs": [],
   "source": []
  }
 ],
 "metadata": {
  "kernelspec": {
   "display_name": "Python 3",
   "language": "python",
   "name": "python3"
  },
  "language_info": {
   "codemirror_mode": {
    "name": "ipython",
    "version": 3
   },
   "file_extension": ".py",
   "mimetype": "text/x-python",
   "name": "python",
   "nbconvert_exporter": "python",
   "pygments_lexer": "ipython3",
   "version": "3.10.12"
  }
 },
 "nbformat": 4,
 "nbformat_minor": 2
}
